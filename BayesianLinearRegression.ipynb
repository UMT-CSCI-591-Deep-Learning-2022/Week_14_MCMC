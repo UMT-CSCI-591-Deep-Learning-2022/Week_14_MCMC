{
 "cells": [
  {
   "cell_type": "markdown",
   "metadata": {
    "id": "f_IiiF75017j"
   },
   "source": [
    "## Imports"
   ]
  },
  {
   "cell_type": "code",
   "execution_count": 1,
   "metadata": {
    "id": "zgJekUTeVNI-"
   },
   "outputs": [],
   "source": [
    "import torch\n",
    "import numpy as np\n",
    "import matplotlib.pyplot as plt\n",
    "import scipy\n",
    "from scipy import stats\n",
    "import seaborn as sb\n",
    "import pandas as pd"
   ]
  },
  {
   "cell_type": "markdown",
   "metadata": {
    "id": "FTYuV6v91IE5"
   },
   "source": [
    "This specific notebook focuses on using MCMC methods to determine the coefficients of a polynomial.  In other words, today we seek to perform [Bayesian linear regression](https://en.wikipedia.org/wiki/Bayesian_linear_regression) using two different MCMC algorithms discussed in class, Metropolis-Hastings (MH), and Hybrid Monte-Carlo (HMC).  The former is considered the standard for MCMC algorithms and is often the basis upon which other MCMC algorithms have been developed.  Specifically here, HMC is relevant due to its utilization of gradients, which feature prominently in Neural Networks.  As such, HMC is particuluarly suited to adoption in machine learning problems.\n",
    "\n",
    "## Data Generation\n",
    "\n",
    "The function below generates points from a polynomial of a specified order.  The coefficients of this polynomial are chosen randomly between -10 and 10, and will be the features in the MCMC models experimented with.  The function returns both the point values, for plotting and training within the later MCMC models, and the generated coefficients for comparison to the results of the MCMC models."
   ]
  },
  {
   "cell_type": "code",
   "execution_count": 2,
   "metadata": {
    "id": "c2bQFd_u1Cr6"
   },
   "outputs": [],
   "source": [
    "#generate data from a polynomial with random gaussian noise\n",
    "def curve_gen(x,order,sigma_obs):\n",
    "  coeffs = []\n",
    "  #generate curve\n",
    "  return_val = 0\n",
    "  for exp in range(order+1):\n",
    "    coeff = np.random.rand()*2 - 1\n",
    "    coeffs.append(coeff) #store for checking results against later\n",
    "    return_val += (coeff*(x**exp))\n",
    "  \n",
    "  #add randomness\n",
    "  for i in range(len(return_val)):\n",
    "    return_val[i] += np.random.normal(scale=sigma_obs)\n",
    "  return return_val,coeffs"
   ]
  },
  {
   "cell_type": "markdown",
   "metadata": {
    "id": "AmpvVkhq2ndg"
   },
   "source": [
    "Below the order of the polynomial and number of points plotted can be chosen.  After this the function $\\tt{curve\\_gen}$ defined above is called and the data for later experimentation generated.  The coefficients are saved in the variable $\\tt{act\\_coeffs}$ for later comparison.  Note too that a seed is given to numpy to enable reproducability.  This line may be removed if a different result is desired."
   ]
  },
  {
   "cell_type": "code",
   "execution_count": 3,
   "metadata": {
    "colab": {
     "base_uri": "https://localhost:8080/",
     "height": 265
    },
    "id": "kZXIFmcnTdsm",
    "outputId": "e8b9f2a6-0b4e-46d6-c846-10ccef6146e6"
   },
   "outputs": [
    {
     "name": "stdout",
     "output_type": "stream",
     "text": [
      "[-0.250919762305275, 0.9014286128198323]\n"
     ]
    },
    {
     "data": {
      "image/png": "[encoded data removed]",
      "text/plain": [
       "<Figure size 432x288 with 1 Axes>"
      ]
     },
     "metadata": {
      "needs_background": "light"
     },
     "output_type": "display_data"
    }
   ],
   "source": [
    "#for reproducability\n",
    "np.random.seed(42)\n",
    "\n",
    "\n",
    "# The order of the polynomial\n",
    "order = 1\n",
    "\n",
    "# The number of data points to simulate\n",
    "num_pts = 10\n",
    "\n",
    "# The x locations\n",
    "x = np.linspace(-1,1,num_pts)\n",
    "\n",
    "# The observation noise\n",
    "sigma_obs = 0.1\n",
    "\n",
    "y,act_coeffs = curve_gen(x,order,sigma_obs)\n",
    "\n",
    "print(act_coeffs)\n",
    "\n",
    "plt.plot(x,y,'.')\n",
    "plt.show()"
   ]
  },
  {
   "cell_type": "markdown",
   "metadata": {
    "id": "BNtdur6w34v_"
   },
   "source": [
    "## Bayesian Functions\n",
    "Here functions are defined for the calculation of the posterior distribution.  In particular we need both the prior and the likelihood for the calculation of the posterior.  According to Bayes' theorem, knowing these two terms along with the evidence (i.e. probability of the specific data being chosen) is all that is needed to calculate the posterior.  Bayes' theorem according to the variables defined in this document is presented below.\n",
    "\n",
    "$$ p(\\beta|X,Y) = \\cfrac{p(Y|X,\\beta)p(\\beta)}{p(Y|X)} $$\n",
    "\n",
    "**Question: Why is there no equation for the evidence below?  Why is it not needed with MCMC methods?**  \n",
    "> Not only is likely to be intractable to calculate but the value is static meaning that the numerator brings the right side of the equation to within a constant factor of the posterior.  \n",
    "\n",
    "With linear regression (not only Bayesian linear regression), it's often useful to calculate a mathematical object known as the design matrix.\n",
    "\n",
    "A general polynomial curve of order $i$ can be constructed as below, where $\\beta_i$ is the coefficient on $x^i$.  Note that $\\beta_0$ is the y-intercept.\n",
    "\n",
    "$$y = \\sum_{i=0}^i\\beta_ix^i$$\n",
    "\n",
    "Rather than using a sum, this equality can be equivalently written using vector multiplication.\n",
    "\n",
    "$$y = \\phi^T\\beta$$\n",
    "\n",
    "$$\\phi = \\begin{pmatrix}\n",
    "x^0 \\\\\n",
    "x^1 \\\\\n",
    "\\vdots\\\\\n",
    "x^i\n",
    "\\end{pmatrix} = \n",
    "\\begin{pmatrix}\n",
    "1 \\\\\n",
    "x^1 \\\\\n",
    "\\vdots\\\\\n",
    "x^i\n",
    "\\end{pmatrix}, \n",
    "\\beta = \\begin{pmatrix}\n",
    "\\beta_0 \\\\\n",
    "\\beta_1 \\\\\n",
    "\\vdots\\\\\n",
    "\\beta_i\n",
    "\\end{pmatrix}$$\n",
    "\n",
    "In the case of multiple datapoints the vector $\\phi$ becomes the design matrix $\\phi$.\n",
    "\n",
    "$$\n",
    "\\phi = \n",
    "\\begin{pmatrix}\n",
    "1 & x_0^1 & . . . & x_0^i\\\\\n",
    "1 & x_1^1 & . . . & x_1^i\\\\\n",
    "\\vdots & \\vdots & \\ddots & \\vdots\\\\\n",
    "1 & x_i^1 & . . . & x_i^i\n",
    "\\end{pmatrix}\n",
    "$$\n",
    "\n",
    "Therefore, $Y = \\phi\\beta$ in the case of multiple data points.  It is left to the student to write the function $\\tt{design\\_mat}$, which is intended to return a design matrix.  As well, the return function for the likelihood is left empty.  This needs to return the likelihood of $Y$ given $\\beta$ and $X$.  As a hint, it's useful to consult both the other functions completed below as well as other online sources.  [This](https://alpopkes.com/posts/machine_learning/bayesian_linear_regression/) page, [this](https://letianzj.github.io/mcmc-linear-regression.html) page, and [this](https://letianzj.github.io/bayesian-linear-regression.html) page are recommended.  (Note: the design matrix is sometimes referred to as a Vandermond matrix; check out the numpy function vander).  "
   ]
  },
  {
   "cell_type": "code",
   "execution_count": 4,
   "metadata": {},
   "outputs": [
    {
     "name": "stdout",
     "output_type": "stream",
     "text": [
      "[[ 1.         -1.        ]\n",
      " [ 1.         -0.77777778]\n",
      " [ 1.         -0.55555556]\n",
      " [ 1.         -0.33333333]\n",
      " [ 1.         -0.11111111]\n",
      " [ 1.          0.11111111]\n",
      " [ 1.          0.33333333]\n",
      " [ 1.          0.55555556]\n",
      " [ 1.          0.77777778]\n",
      " [ 1.          1.        ]]\n"
     ]
    }
   ],
   "source": [
    "def design_mat(x, order):\n",
    "  #TODO: Write the function which will return the design matrix.\n",
    "  return np.vander(x,order+1, increasing=True)\n",
    "  \n",
    "# Test design_matrix function:\n",
    "# min = 2\n",
    "# max = 5\n",
    "# order = 3\n",
    "# x_0 = np.linspace(min,max,max-min+1)\n",
    "# print( design_mat(x_0, order) )\n",
    "print( design_mat(x, order) )"
   ]
  },
  {
   "cell_type": "markdown",
   "metadata": {},
   "source": [
    "$$\n",
    "\\cfrac{P(X^*)}{P(X_0)} = \\exp \\ln \\cfrac{P(X^*)}{P(X_0)} = \\exp (\\ln {P(X^*)} - \\ln {P(X_0)})\n",
    "$$\n",
    "\n",
    "Now, we need to specify our models of the likelihood and prior distribution.  For the likelihood, you should use \n",
    "$$\n",
    "P(Y|X,\\beta) = \\prod_{i=1}^n \\frac{1}{\\sigma \\sqrt{2\\pi}} \\exp{-\\frac{1}{2} \\left( \\frac{Y_i - X_i \\beta}{\\sigma} \\right)^2},\n",
    "$$\n",
    "which has the logarithm\n",
    "$$\n",
    "\\log P(Y|X,\\beta) = -\\frac{n}{2}(\\ln(2\\pi\\sigma^2) - \\frac{1}{2\\sigma^2} \\sum_{i=1}^n (Y_i - X_i \\beta)^2\n",
    "$$\n",
    "Note that this is just a simple sum of squares (with some extra constants).\n",
    "\n",
    "For the prior, you should also assume that the parameters $\\beta$ are, a priori, normally distributed with zero mean and given prior standard deviation $\\sigma^2_{prior}$ \n",
    "$$\n",
    "\\log P(\\beta_i) = -\\frac{1}{2}(\\ln(2\\pi\\sigma^2_{prior,i}) - \\frac{1}{2\\sigma^2_{prior,i}} \\beta_i^2 .\n",
    "$$\n",
    "You might be able to convince yourself that this looks rather like L2 regularization.\n",
    "\n",
    "Next, implement functions that accept $X$, $Y$, and $\\beta$ and evaluate the log-likelihood, log-prior, and log-posterior (up to a constant of proportionality).  "
   ]
  },
  {
   "cell_type": "code",
   "execution_count": 5,
   "metadata": {
    "id": "7lmBWphwg8mA"
   },
   "outputs": [],
   "source": [
    "beta_test = np.random.normal(size=order+1,scale=0.1)"
   ]
  },
  {
   "cell_type": "code",
   "execution_count": 6,
   "metadata": {},
   "outputs": [
    {
     "name": "stdout",
     "output_type": "stream",
     "text": [
      "x : [-1.         -0.77777778 -0.55555556 -0.33333333 -0.11111111  0.11111111\n",
      "  0.33333333  0.55555556  0.77777778  1.        ]\n",
      "y : [-1.08757952 -0.79972792 -0.77512877 -0.57480966 -0.19315722 -0.07401755\n",
      "  0.002609    0.30412992  0.40384961  0.60393588]\n",
      "beta           : [ 0.02419623 -0.19132802]\n",
      "sigma obs      : 0.1\n",
      "log likelihood : -235.73081482083577\n",
      "log prior      : [ 1.35437369 -0.44667409]\n",
      "\n",
      "log posterior: [-234.37644113 -236.17748891]\n"
     ]
    }
   ],
   "source": [
    "\n",
    "def log_likelihood(beta,x,y,sigma_obs):\n",
    "  return -(len(x)/2)*np.log(2*np.pi*sigma_obs**2) - (1/(2*sigma_obs**2))*np.sum((y - x@beta)**2)\n",
    "\n",
    "def log_prior(beta,sigma_prior):\n",
    "  return -0.5 * np.log(2*np.pi*(sigma_prior**2)) - (1/(2*sigma_prior**2)) * beta**2\n",
    "\n",
    "def log_posterior(beta,x,y,sigma_obs,sigma_prior):\n",
    "  log_like = log_likelihood(beta,x,y,sigma_obs)\n",
    "  log_pr = log_prior(beta,sigma_prior)\n",
    "  return log_like + log_pr\n",
    "\n",
    "## Strongly suggest doing some unit testing here!\n",
    "print('x :',x)\n",
    "print('y :',y)\n",
    "print('beta           :',beta_test)\n",
    "print('sigma obs      :',sigma_obs)\n",
    "\n",
    "phi = design_mat(x,order)\n",
    "log_post = log_posterior(beta_test,phi,y,sigma_obs,sigma_obs)\n",
    "\n",
    "print('log likelihood :',log_likelihood(beta_test,phi,y,sigma_obs))\n",
    "print('log prior      :',log_prior(beta_test,sigma_obs))\n",
    "print('\\nlog posterior:',log_post)"
   ]
  },
  {
   "cell_type": "markdown",
   "metadata": {
    "id": "ABZheP01D0fQ"
   },
   "source": [
    "## The Algorithms!\n",
    "\n",
    "With the Bayesian definitions above it's now time to define our algorithms.  The task today is to implement the Metropolis-Hastings algoirthm.  As a bonus you can try to implement Hybrid Monte-Carlo.  Very little code is provided for you.  While I was implementing these, the best source was the pseudo-code from the paper, followed closely by the links provided above.  However, if you get stuck feel free to ask one of us in class or take a look at the key provided!\n",
    "\n",
    "**Question: Refer to Figure 5 in the paper, specifically the 5th line with the minimum function.  Is it necessary to have the proposal distribution q when calculating the acceptance rate?  If so why, if not why not?**  \n",
    "> Yes it is necessary because you need it to ensure that the acceptance probability is in compliance with the principle of detailed balance."
   ]
  },
  {
   "cell_type": "code",
   "execution_count": 7,
   "metadata": {
    "id": "lu_FV-krg8uu"
   },
   "outputs": [],
   "source": [
    "\n",
    "#TODO: Implement Metropolis-Hastings algorithm\n",
    "num_steps = 10000\n",
    "def mh(order,steps=num_steps,stepsize=0.1):\n",
    "  \n",
    "  # sigma values: the standard deviations of ???\n",
    "  s_obs   = sigma_obs\n",
    "  # as s_prior increases over s_obs, performance improves and then declines again\n",
    "  s_prior = 1.\n",
    "  phi = design_mat(x,order)\n",
    "  betas = [np.zeros(order+1)] #initial guess\n",
    "  \n",
    "  for i in range(steps):\n",
    "    if (i+1)%(steps/100) == 0: print(\"Step {:<6}/{}\".format(i+1,steps),sep='',end=\"\\r\") #print steps to check progress\n",
    "\n",
    "    #get a random uniform sample, what should the bounds be?\n",
    "    random_uniform_sample = np.random.uniform(low=0, high=1., size=order+1) # defaults are low=0.0 high=1.0\n",
    "    \n",
    "    #there should be a new beta proposed in here\n",
    "    proposed_betas = np.random.normal(loc=betas[-1], scale=s_prior, size=order+1) # defaults are loc=0.0 scale=1.0\n",
    "    \n",
    "    #what should the acceptance look like?\n",
    "    acceptance_val = np.minimum( np.ones(order+1), np.exp(log_posterior(proposed_betas,phi,y,s_obs,s_prior)-log_posterior(betas[-1],phi,y,s_obs,s_prior)) )\n",
    "\n",
    "    #do we need to look at the acceptance of all features individually or together?\n",
    "    # We need to look at them individually and accept either the random or new beta that is less than the corresponding acceptance value:\n",
    "    # Step 1: retrieve indexes of accepted values\n",
    "    indexes_of_accepted = ( random_uniform_sample < acceptance_val ).astype(int)\n",
    "    # Step 2: create array of all possible values with previous betas in array 0 and proposed betas in array 1\n",
    "    all_possible_betas = np.array( [ betas[-1] , proposed_betas ] )\n",
    "    # Step 3: collect the accepted betas from the 2D array of all possible values using the indexes_of_accepted values array\n",
    "    new_betas = np.array([all_possible_betas[indexes_of_accepted[i]][i] for i in range(len(indexes_of_accepted))])\n",
    "    # Step 4: add final accepted betas to list of betas saved at each step\n",
    "    betas.append(new_betas)\n",
    "\n",
    "  return betas"
   ]
  },
  {
   "cell_type": "markdown",
   "metadata": {
    "id": "4vvAnZe6HLi8"
   },
   "source": [
    "Below run your implemented Metropolis-Hastings."
   ]
  },
  {
   "cell_type": "code",
   "execution_count": 8,
   "metadata": {
    "colab": {
     "base_uri": "https://localhost:8080/"
    },
    "id": "vdj2w6yoFguC",
    "outputId": "3663ff98-a86f-4b12-f5c3-bc230ce3a4db"
   },
   "outputs": [
    {
     "name": "stderr",
     "output_type": "stream",
     "text": [
      "C:\\Users\\PRIMEL~1\\AppData\\Local\\Temp/ipykernel_2832/1782288434.py:22: RuntimeWarning: overflow encountered in exp\n",
      "  acceptance_val = np.minimum( np.ones(order+1), np.exp(log_posterior(proposed_betas,phi,y,s_obs,s_prior)-log_posterior(betas[-1],phi,y,s_obs,s_prior)) )\n"
     ]
    },
    {
     "name": "stdout",
     "output_type": "stream",
     "text": [
      "Step 10000 /10000\r"
     ]
    }
   ],
   "source": [
    "betas = mh(order)"
   ]
  },
  {
   "cell_type": "markdown",
   "metadata": {
    "id": "V0ALjYm0FYUR"
   },
   "source": [
    "Plot the results of your Metropolis-Hastings implementation.\n",
    "\n",
    "Below is a histogram of your MCMC results along with a red line indicating the true coefficient value."
   ]
  },
  {
   "cell_type": "code",
   "execution_count": 9,
   "metadata": {
    "colab": {
     "base_uri": "https://localhost:8080/",
     "height": 294
    },
    "id": "fJXf-HToKgGR",
    "outputId": "38a4d830-5a98-4cc8-ccc9-2c4ddf477988"
   },
   "outputs": [
    {
     "data": {
      "image/png": "[encoded data removed]",
      "text/plain": [
       "<Figure size 432x288 with 2 Axes>"
      ]
     },
     "metadata": {
      "needs_background": "light"
     },
     "output_type": "display_data"
    }
   ],
   "source": [
    "fig, axes = plt.subplots(1, order+1)\n",
    "fig.suptitle('Learned Distributions')\n",
    "for i in range(len(axes)):\n",
    "  axes[i].hist(np.array(betas)[:,i],density=True,range=(-1,1),bins=20)\n",
    "  axes[i].axvline(x=act_coeffs[i],color='r')"
   ]
  },
  {
   "cell_type": "markdown",
   "metadata": {
    "id": "f9eoaibmLv9Z"
   },
   "source": [
    "Below a function $\\tt{coeff\\_plot}$ is provided which takes in a series of coefficients and returns y-values for plotting.  "
   ]
  },
  {
   "cell_type": "code",
   "execution_count": 10,
   "metadata": {
    "id": "LPKlDPxd9T8P"
   },
   "outputs": [],
   "source": [
    "def coeff_plot(coeffs,x):\n",
    "  #generate curve\n",
    "  return_val = 0\n",
    "  for exp in range(len(coeffs)):\n",
    "    return_val += (coeffs[exp]*(x**exp))\n",
    "  return return_val"
   ]
  },
  {
   "cell_type": "markdown",
   "metadata": {
    "id": "I1-2beY_O_sT"
   },
   "source": [
    "First, **plot the random walk of MH algorithm throughout the feature space.** (i.e. plot the entire sequence of $\\beta$ values as a scatter plot)."
   ]
  },
  {
   "cell_type": "code",
   "execution_count": 11,
   "metadata": {
    "colab": {
     "base_uri": "https://localhost:8080/",
     "height": 282
    },
    "id": "NU14HFkV9Jfy",
    "outputId": "45e43e6b-ab3f-4133-acdb-640b924f15e9"
   },
   "outputs": [
    {
     "name": "stdout",
     "output_type": "stream",
     "text": [
      "9900 0.0198019801980190520.32673267326732613\r"
     ]
    },
    {
     "data": {
      "image/png": "[encoded data removed]",
      "text/plain": [
       "<Figure size 576x576 with 1 Axes>"
      ]
     },
     "metadata": {
      "needs_background": "light"
     },
     "output_type": "display_data"
    }
   ],
   "source": [
    "plt.figure(figsize=(8,8))\n",
    "step = 100\n",
    "color = 1.\n",
    "color_change = color/(step+1)\n",
    "for beta in range(0,len(betas)-1,step):\n",
    "  print(beta,color,end=\"\\r\")\n",
    "  plt.scatter(betas[beta][0],betas[beta][1],color=str(color))\n",
    "  color -= color_change\n",
    "plt.title(\"Betas as Steps over Time in Darkening Grey\")\n",
    "plt.show()"
   ]
  },
  {
   "cell_type": "markdown",
   "metadata": {
    "id": "pBX601wXO3Rg"
   },
   "source": [
    "Next, **plot the posterior predictive distribution, i.e. make a plot of x versus y, overlaid with the predicted y for each sample of $\\beta$ drawn via MCMC."
   ]
  },
  {
   "cell_type": "code",
   "execution_count": 12,
   "metadata": {},
   "outputs": [
    {
     "name": "stdout",
     "output_type": "stream",
     "text": [
      "0.2\n"
     ]
    },
    {
     "data": {
      "image/png": "[encoded data removed]",
      "text/plain": [
       "<Figure size 648x432 with 1 Axes>"
      ]
     },
     "metadata": {
      "needs_background": "light"
     },
     "output_type": "display_data"
    }
   ],
   "source": [
    "plt.figure(figsize=(9,6))\n",
    "plt.plot(x,y,'.')\n",
    "\n",
    "plt.plot(x,coeff_plot(act_coeffs,x),label='Actual')\n",
    "\n",
    "colors = []\n",
    "\n",
    "color = 0.8\n",
    "num_lines = 4\n",
    "color_change = color/num_lines\n",
    "print(color_change)\n",
    "# for beta in samples, plot the regression line\n",
    "for i in range(0,num_steps+1,int(num_steps/num_lines)):\n",
    "  plt.plot(x,coeff_plot(betas[i],x),color=str(color),label=f'Predicted: {i}', )\n",
    "  color -= (color_change)\n",
    "plt.legend()\n",
    "plt.show()"
   ]
  },
  {
   "cell_type": "markdown",
   "metadata": {},
   "source": [
    "# Bonus: Hybrid MC"
   ]
  },
  {
   "cell_type": "markdown",
   "metadata": {
    "id": "LwI6_zehSYCM"
   },
   "source": [
    "Before implementing HMC you will need to define the gradient of the posterior.  This is done for you.  However, the below function relies heavily on the gradient of the likelihood which is left mostly undefined.\n",
    "\n",
    "Hint: What is the derivative of a normal distribution?  How do you account for the multiple features?  Do we already have easy access to such an object?"
   ]
  },
  {
   "cell_type": "code",
   "execution_count": 13,
   "metadata": {
    "id": "adr0_KA6U8ug"
   },
   "outputs": [],
   "source": [
    "def likelihood_grad(beta,x,y):\n",
    "  #order is one less than the length of beta\n",
    "\n",
    "  #what is the derivative of a normal distribution?\n",
    "    \n",
    "  #how are we going to account for gradient with respect to multiple features?\n",
    "\n",
    "  return None\n",
    "\n",
    "def posterior_grad(beta,x,y):\n",
    "  like = likelihood_grad(beta,x,y)\n",
    "  pr = prior(beta)\n",
    "  return np.sum(like,axis=1)+pr"
   ]
  },
  {
   "cell_type": "code",
   "execution_count": 14,
   "metadata": {
    "id": "o6w5beMC9Jqm"
   },
   "outputs": [],
   "source": [
    "#TODO: Implement Hybrid Monte-Carlo algorithm\n",
    "def hmc(order, steps=10000,L=10,rho=0.1):\n",
    "  betas = [np.zeros(order+1)]#initial guess\n",
    "  for i in range(steps):\n",
    "    if (i+1)%(steps/100) == 0:print(\"Step \",i+1,\"/\",steps,sep='')#print steps to check progress\n",
    "    #now you need to sample from both a uniform and normal distribution\n",
    "    \n",
    "    #do you need a proposal distribution?  how are we going to get a proposed beta?\n",
    "    \n",
    "    #does anything special need to be done with rho?\n",
    "    \n",
    "    #how has the acceptance changed?\n",
    "  return None"
   ]
  },
  {
   "cell_type": "markdown",
   "metadata": {
    "id": "iIo_qPwwTD-W"
   },
   "source": [
    "Below run your implemented Hybrid Monte-Carlo."
   ]
  },
  {
   "cell_type": "code",
   "execution_count": 15,
   "metadata": {
    "colab": {
     "base_uri": "https://localhost:8080/"
    },
    "id": "JFRnA7h0H_dt",
    "outputId": "beca37c4-8601-4416-bed1-892c3a170914"
   },
   "outputs": [
    {
     "name": "stdout",
     "output_type": "stream",
     "text": [
      "Step 100/10000\n",
      "Step 200/10000\n",
      "Step 300/10000\n",
      "Step 400/10000\n",
      "Step 500/10000\n",
      "Step 600/10000\n",
      "Step 700/10000\n",
      "Step 800/10000\n",
      "Step 900/10000\n",
      "Step 1000/10000\n",
      "Step 1100/10000\n",
      "Step 1200/10000\n",
      "Step 1300/10000\n",
      "Step 1400/10000\n",
      "Step 1500/10000\n",
      "Step 1600/10000\n",
      "Step 1700/10000\n",
      "Step 1800/10000\n",
      "Step 1900/10000\n",
      "Step 2000/10000\n",
      "Step 2100/10000\n",
      "Step 2200/10000\n",
      "Step 2300/10000\n",
      "Step 2400/10000\n",
      "Step 2500/10000\n",
      "Step 2600/10000\n",
      "Step 2700/10000\n",
      "Step 2800/10000\n",
      "Step 2900/10000\n",
      "Step 3000/10000\n",
      "Step 3100/10000\n",
      "Step 3200/10000\n",
      "Step 3300/10000\n",
      "Step 3400/10000\n",
      "Step 3500/10000\n",
      "Step 3600/10000\n",
      "Step 3700/10000\n",
      "Step 3800/10000\n",
      "Step 3900/10000\n",
      "Step 4000/10000\n",
      "Step 4100/10000\n",
      "Step 4200/10000\n",
      "Step 4300/10000\n",
      "Step 4400/10000\n",
      "Step 4500/10000\n",
      "Step 4600/10000\n",
      "Step 4700/10000\n",
      "Step 4800/10000\n",
      "Step 4900/10000\n",
      "Step 5000/10000\n",
      "Step 5100/10000\n",
      "Step 5200/10000\n",
      "Step 5300/10000\n",
      "Step 5400/10000\n",
      "Step 5500/10000\n",
      "Step 5600/10000\n",
      "Step 5700/10000\n",
      "Step 5800/10000\n",
      "Step 5900/10000\n",
      "Step 6000/10000\n",
      "Step 6100/10000\n",
      "Step 6200/10000\n",
      "Step 6300/10000\n",
      "Step 6400/10000\n",
      "Step 6500/10000\n",
      "Step 6600/10000\n",
      "Step 6700/10000\n",
      "Step 6800/10000\n",
      "Step 6900/10000\n",
      "Step 7000/10000\n",
      "Step 7100/10000\n",
      "Step 7200/10000\n",
      "Step 7300/10000\n",
      "Step 7400/10000\n",
      "Step 7500/10000\n",
      "Step 7600/10000\n",
      "Step 7700/10000\n",
      "Step 7800/10000\n",
      "Step 7900/10000\n",
      "Step 8000/10000\n",
      "Step 8100/10000\n",
      "Step 8200/10000\n",
      "Step 8300/10000\n",
      "Step 8400/10000\n",
      "Step 8500/10000\n",
      "Step 8600/10000\n",
      "Step 8700/10000\n",
      "Step 8800/10000\n",
      "Step 8900/10000\n",
      "Step 9000/10000\n",
      "Step 9100/10000\n",
      "Step 9200/10000\n",
      "Step 9300/10000\n",
      "Step 9400/10000\n",
      "Step 9500/10000\n",
      "Step 9600/10000\n",
      "Step 9700/10000\n",
      "Step 9800/10000\n",
      "Step 9900/10000\n",
      "Step 10000/10000\n"
     ]
    }
   ],
   "source": [
    "betas = hmc(order)"
   ]
  },
  {
   "cell_type": "markdown",
   "metadata": {
    "id": "6T5DygcETWZn"
   },
   "source": [
    "Plot the random walk of HMC throughout the feature space."
   ]
  },
  {
   "cell_type": "code",
   "execution_count": 16,
   "metadata": {
    "id": "qRpRKM30PnYj"
   },
   "outputs": [
    {
     "ename": "ValueError",
     "evalue": "No variables found for grid columns.",
     "output_type": "error",
     "traceback": [
      "\u001b[1;31m---------------------------------------------------------------------------\u001b[0m",
      "\u001b[1;31mValueError\u001b[0m                                Traceback (most recent call last)",
      "\u001b[1;32mC:\\Users\\PRIMEL~1\\AppData\\Local\\Temp/ipykernel_2832/3168594804.py\u001b[0m in \u001b[0;36m<module>\u001b[1;34m\u001b[0m\n\u001b[0;32m      1\u001b[0m \u001b[0mdf\u001b[0m \u001b[1;33m=\u001b[0m \u001b[0mpd\u001b[0m\u001b[1;33m.\u001b[0m\u001b[0mDataFrame\u001b[0m\u001b[1;33m(\u001b[0m\u001b[0mbetas\u001b[0m\u001b[1;33m)\u001b[0m\u001b[1;33m\u001b[0m\u001b[1;33m\u001b[0m\u001b[0m\n\u001b[1;32m----> 2\u001b[1;33m \u001b[0mg\u001b[0m \u001b[1;33m=\u001b[0m \u001b[0msb\u001b[0m\u001b[1;33m.\u001b[0m\u001b[0mPairGrid\u001b[0m\u001b[1;33m(\u001b[0m\u001b[0mdf\u001b[0m\u001b[1;33m)\u001b[0m\u001b[1;33m\u001b[0m\u001b[1;33m\u001b[0m\u001b[0m\n\u001b[0m\u001b[0;32m      3\u001b[0m \u001b[0mg\u001b[0m\u001b[1;33m.\u001b[0m\u001b[0mmap_offdiag\u001b[0m\u001b[1;33m(\u001b[0m\u001b[0mplt\u001b[0m\u001b[1;33m.\u001b[0m\u001b[0mscatter\u001b[0m\u001b[1;33m,\u001b[0m\u001b[0ms\u001b[0m\u001b[1;33m=\u001b[0m\u001b[1;36m10\u001b[0m\u001b[1;33m)\u001b[0m\u001b[1;33m\u001b[0m\u001b[1;33m\u001b[0m\u001b[0m\n\u001b[0;32m      4\u001b[0m \u001b[0mplt\u001b[0m\u001b[1;33m.\u001b[0m\u001b[0mshow\u001b[0m\u001b[1;33m(\u001b[0m\u001b[1;33m)\u001b[0m\u001b[1;33m\u001b[0m\u001b[1;33m\u001b[0m\u001b[0m\n",
      "\u001b[1;32m~\\AppData\\Local\\Packages\\PythonSoftwareFoundation.Python.3.9_qbz5n2kfra8p0\\LocalCache\\local-packages\\Python39\\site-packages\\seaborn\\_decorators.py\u001b[0m in \u001b[0;36minner_f\u001b[1;34m(*args, **kwargs)\u001b[0m\n\u001b[0;32m     44\u001b[0m             )\n\u001b[0;32m     45\u001b[0m         \u001b[0mkwargs\u001b[0m\u001b[1;33m.\u001b[0m\u001b[0mupdate\u001b[0m\u001b[1;33m(\u001b[0m\u001b[1;33m{\u001b[0m\u001b[0mk\u001b[0m\u001b[1;33m:\u001b[0m \u001b[0marg\u001b[0m \u001b[1;32mfor\u001b[0m \u001b[0mk\u001b[0m\u001b[1;33m,\u001b[0m \u001b[0marg\u001b[0m \u001b[1;32min\u001b[0m \u001b[0mzip\u001b[0m\u001b[1;33m(\u001b[0m\u001b[0msig\u001b[0m\u001b[1;33m.\u001b[0m\u001b[0mparameters\u001b[0m\u001b[1;33m,\u001b[0m \u001b[0margs\u001b[0m\u001b[1;33m)\u001b[0m\u001b[1;33m}\u001b[0m\u001b[1;33m)\u001b[0m\u001b[1;33m\u001b[0m\u001b[1;33m\u001b[0m\u001b[0m\n\u001b[1;32m---> 46\u001b[1;33m         \u001b[1;32mreturn\u001b[0m \u001b[0mf\u001b[0m\u001b[1;33m(\u001b[0m\u001b[1;33m**\u001b[0m\u001b[0mkwargs\u001b[0m\u001b[1;33m)\u001b[0m\u001b[1;33m\u001b[0m\u001b[1;33m\u001b[0m\u001b[0m\n\u001b[0m\u001b[0;32m     47\u001b[0m     \u001b[1;32mreturn\u001b[0m \u001b[0minner_f\u001b[0m\u001b[1;33m\u001b[0m\u001b[1;33m\u001b[0m\u001b[0m\n\u001b[0;32m     48\u001b[0m \u001b[1;33m\u001b[0m\u001b[0m\n",
      "\u001b[1;32m~\\AppData\\Local\\Packages\\PythonSoftwareFoundation.Python.3.9_qbz5n2kfra8p0\\LocalCache\\local-packages\\Python39\\site-packages\\seaborn\\axisgrid.py\u001b[0m in \u001b[0;36m__init__\u001b[1;34m(self, data, hue, hue_order, palette, hue_kws, vars, x_vars, y_vars, corner, diag_sharey, height, aspect, layout_pad, despine, dropna, size)\u001b[0m\n\u001b[0;32m   1231\u001b[0m \u001b[1;33m\u001b[0m\u001b[0m\n\u001b[0;32m   1232\u001b[0m         \u001b[1;32mif\u001b[0m \u001b[1;32mnot\u001b[0m \u001b[0mx_vars\u001b[0m\u001b[1;33m:\u001b[0m\u001b[1;33m\u001b[0m\u001b[1;33m\u001b[0m\u001b[0m\n\u001b[1;32m-> 1233\u001b[1;33m             \u001b[1;32mraise\u001b[0m \u001b[0mValueError\u001b[0m\u001b[1;33m(\u001b[0m\u001b[1;34m\"No variables found for grid columns.\"\u001b[0m\u001b[1;33m)\u001b[0m\u001b[1;33m\u001b[0m\u001b[1;33m\u001b[0m\u001b[0m\n\u001b[0m\u001b[0;32m   1234\u001b[0m         \u001b[1;32mif\u001b[0m \u001b[1;32mnot\u001b[0m \u001b[0my_vars\u001b[0m\u001b[1;33m:\u001b[0m\u001b[1;33m\u001b[0m\u001b[1;33m\u001b[0m\u001b[0m\n\u001b[0;32m   1235\u001b[0m             \u001b[1;32mraise\u001b[0m \u001b[0mValueError\u001b[0m\u001b[1;33m(\u001b[0m\u001b[1;34m\"No variables found for grid rows.\"\u001b[0m\u001b[1;33m)\u001b[0m\u001b[1;33m\u001b[0m\u001b[1;33m\u001b[0m\u001b[0m\n",
      "\u001b[1;31mValueError\u001b[0m: No variables found for grid columns."
     ]
    }
   ],
   "source": [
    "df = pd.DataFrame(betas)\n",
    "g = sb.PairGrid(df)\n",
    "g.map_offdiag(plt.scatter,s=10)\n",
    "plt.show()"
   ]
  },
  {
   "cell_type": "markdown",
   "metadata": {
    "id": "oLjIMmM0TY63"
   },
   "source": [
    "Compare the results of HMC to the actual coefficients used."
   ]
  },
  {
   "cell_type": "code",
   "execution_count": null,
   "metadata": {
    "colab": {
     "base_uri": "https://localhost:8080/",
     "height": 282
    },
    "id": "Ip7_rJ3RPnb9",
    "outputId": "b733769d-46c7-4a79-ea36-a01cc12daf9d"
   },
   "outputs": [],
   "source": [
    "plt.plot(x,y,'.')\n",
    "plt.plot(x,coeff_plot(gen_coeffs(betas),x),label='MCMC')\n",
    "plt.plot(x,coeff_plot(act_coeffs,x),label='Actual')\n",
    "plt.legend()"
   ]
  }
 ],
 "metadata": {
  "colab": {
   "collapsed_sections": [],
   "name": "BayesianLinearRegression.ipynb",
   "provenance": []
  },
  "kernelspec": {
   "display_name": "Python 3 (ipykernel)",
   "language": "python",
   "name": "python3"
  },
  "language_info": {
   "codemirror_mode": {
    "name": "ipython",
    "version": 3
   },
   "file_extension": ".py",
   "mimetype": "text/x-python",
   "name": "python",
   "nbconvert_exporter": "python",
   "pygments_lexer": "ipython3",
   "version": "3.9.12"
  }
 },
 "nbformat": 4,
 "nbformat_minor": 1
}
