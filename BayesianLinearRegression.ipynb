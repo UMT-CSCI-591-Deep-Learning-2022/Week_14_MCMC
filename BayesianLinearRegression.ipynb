{
  "cells": [
    {
      "cell_type": "markdown",
      "metadata": {
        "id": "f_IiiF75017j"
      },
      "source": [
        "## Imports"
      ]
    },
    {
      "cell_type": "code",
      "execution_count": null,
      "metadata": {
        "id": "zgJekUTeVNI-"
      },
      "outputs": [],
      "source": [
        "import torch\n",
        "import numpy as np\n",
        "import matplotlib.pyplot as plt\n",
        "import scipy\n",
        "from scipy import stats\n",
        "import seaborn as sb\n",
        "import pandas as pd"
      ]
    },
    {
      "cell_type": "markdown",
      "metadata": {
        "id": "FTYuV6v91IE5"
      },
      "source": [
        "This specific notebook focuses on using MCMC methods to determine the coefficients of a polynomial.  In other words, today we seek to perform [Bayesian linear regression](https://en.wikipedia.org/wiki/Bayesian_linear_regression) using two different MCMC algorithms discussed in class, Metropolis-Hastings (MH), and Hybrid Monte-Carlo (HMC).  The former is considered the standard for MCMC algorithms and is often the basis upon which other MCMC algorithms have been developed.  Specifically here, HMC is relevant due to its utilization of gradients, which feature prominently in Neural Networks.  As such, HMC is particuluarly suited to adoption in machine learning problems.\n",
        "\n",
        "## Data Generation\n",
        "\n",
        "The function below generates points from a polynomial of a specified order.  The coefficients of this polynomial are chosen randomly between -10 and 10, and will be the features in the MCMC models experimented with.  The function returns both the point values, for plotting and training within the later MCMC models, and the generated coefficients for comparison to the results of the MCMC models."
      ]
    },
    {
      "cell_type": "code",
      "execution_count": null,
      "metadata": {
        "id": "c2bQFd_u1Cr6"
      },
      "outputs": [],
      "source": [
        "#generate data from a polynomial with random gaussian noise\n",
        "def curve_gen(x,order,sigma_obs):\n",
        "  coeffs = []\n",
        "  #generate curve\n",
        "  return_val = 0\n",
        "  for exp in range(order+1):\n",
        "    coeff = np.random.rand()*2 - 1\n",
        "    coeffs.append(coeff) #store for checking results against later\n",
        "    return_val += (coeff*(x**exp))\n",
        "\n",
        "  #add randomness\n",
        "  for i in range(len(return_val)):\n",
        "    return_val[i] += np.random.normal(scale=sigma_obs)\n",
        "  return return_val,coeffs"
      ]
    },
    {
      "cell_type": "markdown",
      "metadata": {
        "id": "AmpvVkhq2ndg"
      },
      "source": [
        "Below the order of the polynomial and number of points plotted can be chosen.  After this the function $\\tt{curve\\_gen}$ defined above is called and the data for later experimentation generated.  The coefficients are saved in the variable $\\tt{act\\_coeffs}$ for later comparison.  Note too that a seed is given to numpy to enable reproducability.  This line may be removed if a different result is desired."
      ]
    },
    {
      "cell_type": "code",
      "execution_count": null,
      "metadata": {
        "id": "kZXIFmcnTdsm",
        "colab": {
          "base_uri": "https://localhost:8080/",
          "height": 283
        },
        "outputId": "cb559f32-df8c-4e8a-c262-fa3abbce7138"
      },
      "outputs": [
        {
          "output_type": "stream",
          "name": "stdout",
          "text": [
            "[-0.556013657820521, 0.7414646123547528]\n"
          ]
        },
        {
          "output_type": "display_data",
          "data": {
            "text/plain": [
              "<Figure size 432x288 with 1 Axes>"
            ],
            "image/png": "[encoded data removed]"
          },
          "metadata": {
            "needs_background": "light"
          }
        }
      ],
      "source": [
        "#for reproducability\n",
        "np.random.seed(5)\n",
        "\n",
        "# The order of the polynomial\n",
        "order = 1\n",
        "\n",
        "# The number of data points to simulate\n",
        "num_pts = 100\n",
        "\n",
        "# The x locations\n",
        "x = np.linspace(-1,1,num_pts)\n",
        "\n",
        "# The observation noise\n",
        "sigma_obs = 0.1\n",
        "\n",
        "y,act_coeffs = curve_gen(x,order,sigma_obs)\n",
        "\n",
        "print(act_coeffs)\n",
        "\n",
        "plt.plot(x,y,'.')\n",
        "plt.show()"
      ]
    },
    {
      "cell_type": "markdown",
      "metadata": {
        "id": "BNtdur6w34v_"
      },
      "source": [
        "## Bayesian Functions\n",
        "Here functions are defined for the calculation of the posterior distribution.  In particular we need both the prior and the likelihood for the calculation of the posterior.  According to Bayes' theorem, knowing these two terms along with the evidence (i.e. probability of the specific data being chosen) is all that is needed to calculate the posterior.  Bayes' theorem according to the variables defined in this document is presented below.\n",
        "\n",
        "$$p(\\beta|X,Y) = \\cfrac{p(Y|X,𝜷)p(𝜷)}{p(Y|X)}$$\n",
        "\n",
        "**Question: Why is there no equation for the evidence below?  Why is it not needed with MCMC methods?**\n",
        "\n",
        "With linear regression (not only Bayesian linear regression), it's often useful to calculate a mathematical object known as the design matrix.\n",
        "\n",
        "A general polynomial curve of order $i$ can be constructed as below, where $\\beta_i$ is the coefficient on $x^i$.  Note that $\\beta_0$ is the y-intercept.\n",
        "\n",
        "$$y = \\sum_{i=0}^i\\beta_ix^i$$\n",
        "\n",
        "Rather than using a sum, this equality can be equivalently written using vector multiplication.\n",
        "\n",
        "$$y = 𝝓^T𝜷$$\n",
        "\n",
        "$$𝝓 = \\begin{pmatrix}\n",
        "x^0 \\\\\n",
        "x^1 \\\\\n",
        "\\vdots\\\\\n",
        "x^i\n",
        "\\end{pmatrix} = \n",
        "\\begin{pmatrix}\n",
        "1 \\\\\n",
        "x^1 \\\\\n",
        "\\vdots\\\\\n",
        "x^i\n",
        "\\end{pmatrix}, \n",
        "𝜷 = \\begin{pmatrix}\n",
        "\\beta_0 \\\\\n",
        "\\beta_1 \\\\\n",
        "\\vdots\\\\\n",
        "\\beta_i\n",
        "\\end{pmatrix}$$\n",
        "\n",
        "In the case of multiple datapoints the vector $𝝓$ becomes the design matrix $𝜱$.\n",
        "\n",
        "$$\n",
        "𝜱 = \n",
        "\\begin{pmatrix}\n",
        "1 & x_0^1 & . . . & x_0^i\\\\\n",
        "1 & x_1^1 & . . . & x_1^i\\\\\n",
        "\\vdots & \\vdots & \\ddots & \\vdots\\\\\n",
        "1 & x_i^1 & . . . & x_i^i\n",
        "\\end{pmatrix}\n",
        "$$\n",
        "\n",
        "Therefore, $Y = 𝜱𝜷$ in the case of multiple data points.  It is left to the student to write the function $\\tt{design\\_mat}$, which is intended to return a design matrix.  As well, the return function for the likelihood is left empty.  This needs to return the likelihood of $Y$ given $𝜷$ and $X$.  As a hint, it's useful to consult both the other functions compelted below as well as other online sources.  [This](https://alpopkes.com/posts/machine_learning/bayesian_linear_regression/) page, [this](https://letianzj.github.io/mcmc-linear-regression.html) page, and [this](https://letianzj.github.io/bayesian-linear-regression.html) page are recommended.  (Note: the design matrix is sometimes referred to as a Vandermond matrix; check out the numpy function vander).  "
      ]
    },
    {
      "cell_type": "code",
      "execution_count": null,
      "metadata": {
        "id": "ntGSzuKAuzk5"
      },
      "outputs": [],
      "source": [
        "def design_mat(x, order):\n",
        "  return np.vander(x,order+1,increasing=True)"
      ]
    },
    {
      "cell_type": "markdown",
      "metadata": {
        "id": "upGlcA5juzk6"
      },
      "source": [
        "Now, we need to specify our models of the likelihood and prior distribution.  For the likelihood, you should use \n",
        "$$\n",
        "P(Y|X,\\beta) = \\prod_{i=1}^n \\frac{1}{\\sigma \\sqrt{2\\pi}} \\exp{-\\frac{1}{2} \\left( \\frac{Y_i - X_i \\beta}{\\sigma} \\right)^2},\n",
        "$$\n",
        "which has the logarithm\n",
        "$$\n",
        "\\log P(Y|X,\\beta) = -\\frac{n}{2}(\\ln(2\\pi\\sigma^2) - \\frac{1}{2\\sigma^2} \\sum_{i=1}^n (Y_i - X_i \\beta)^2\n",
        "$$\n",
        "Note that this is just a simple sum of squares (with some extra constants).\n",
        "\n",
        "For the prior, you should also assume that the parameters $\\beta$ are, a priori, normally distributed with zero mean and given prior standard deviation $\\sigma^2_{prior}$ \n",
        "$$\n",
        "\\log P(\\beta_i) = -\\frac{1}{2}(\\ln(2\\pi\\sigma^2_{prior,i}) - \\frac{1}{2\\sigma^2_{prior,i}} \\beta_i^2 .\n",
        "$$\n",
        "You might be able to convince yourself that this looks rather like L2 regularization.\n",
        "\n",
        "Next, implement functions that accept $X$, $Y$, and $\\beta$ and evaluate the log-likelihood, log-prior, and log-posterior (up to a constant of proportionality).  "
      ]
    },
    {
      "cell_type": "code",
      "execution_count": null,
      "metadata": {
        "id": "7lmBWphwg8mA",
        "colab": {
          "base_uri": "https://localhost:8080/"
        },
        "outputId": "df8ff8dd-3b52-4351-f053-3e4750a58577"
      },
      "outputs": [
        {
          "output_type": "execute_result",
          "data": {
            "text/plain": [
              "array([-6.19131141, -4.52529992, -4.30193005])"
            ]
          },
          "metadata": {},
          "execution_count": 8
        }
      ],
      "source": [
        "\n",
        "def log_likelihood(beta,x,y,sigma_obs):\n",
        "  n = len(x)\n",
        "  order = len(beta)-1\n",
        "  design_matrix = design_mat(x, order)\n",
        "  residual_sum = np.sum((y - design_matrix @ beta)**2)\n",
        "  stdv = sigma_obs**2\n",
        "\n",
        "  return -(n/2)*np.log(2*np.pi*stdv) - (1/(2*stdv))* residual_sum \n",
        "\n",
        "def log_prior(beta,sigma_prior):\n",
        "  return -0.5 * np.log(2*np.pi * sigma_prior**2) - (1/(2*sigma_prior**2) * beta**2)\n",
        "\n",
        "def log_posterior(beta,x,y,sigma_obs,sigma_prior):\n",
        "  log_like = log_likelihood(beta,x,y,sigma_obs)\n",
        "  log_pr = log_prior(beta,sigma_prior)\n",
        "  return log_like + log_pr\n",
        "\n",
        "\n",
        "## Strongly suggest doing some unit testing here!\n",
        "ex = np.random.random(3)\n",
        "why = np.random.random(3)\n",
        "beeta = np.random.random(3)\n",
        "sigmuh = np.random.random(3)\n",
        "sigmuh_prior = np.random.random(3)\n",
        "\n",
        "log_likelihood(beeta,ex,why,sigmuh)\n",
        "log_prior(beeta,sigmuh)\n",
        "log_posterior(beeta,ex,why,sigmuh,sigmuh_prior)"
      ]
    },
    {
      "cell_type": "code",
      "source": [
        "order = 3\n",
        "beta = np.random.rand(order+1)\n",
        "\n",
        "np.sum((y - design_mat(x,order) @ beta)**2)"
      ],
      "metadata": {
        "colab": {
          "base_uri": "https://localhost:8080/"
        },
        "id": "Emwl2-qVj3CY",
        "outputId": "a7286770-b3c7-4335-8437-bdd6600c3f0b"
      },
      "execution_count": null,
      "outputs": [
        {
          "output_type": "execute_result",
          "data": {
            "text/plain": [
              "300.80198373738386"
            ]
          },
          "metadata": {},
          "execution_count": 9
        }
      ]
    },
    {
      "cell_type": "markdown",
      "metadata": {
        "id": "ABZheP01D0fQ"
      },
      "source": [
        "## The Algorithms!\n",
        "\n",
        "With the Bayesian definitions above it's now time to define our algorithms.  The task today is to implement the Metropolis-Hastings algoirthm.  As a bonus you can try to implement Hybrid Monte-Carlo.  Very little code is provided for you.  While I was implementing these, the best source was the pseudo-code from the paper, followed closely by the links provided above.  However, if you get stuck feel free to ask one of us in class or take a look at the key provided!\n",
        "\n",
        "**Question: Refer to Figure 5 in the paper, specifically the 5th line with the minimum function.  Is it necessary to have the proposal distribution q when calculating the acceptance rate?  If so why, if not why not?**"
      ]
    },
    {
      "cell_type": "code",
      "execution_count": null,
      "metadata": {
        "id": "lu_FV-krg8uu"
      },
      "outputs": [],
      "source": [
        "#TODO: Implement Metropolis-Hastings algorithm\n",
        "def mh(order,steps=10000,stepsize=0.1):\n",
        "  betas = [np.zeros(order+1)] #initial guess\n",
        "  sigma = np.array([sigma_obs for x in range(order+1)])\n",
        "\n",
        "  for i in range(steps):\n",
        "    if (i+1)%(steps/100) == 0:print(\"Step \",i+1,\"/\",steps,sep='') #print steps to check progress\n",
        "\n",
        "    #get a random uniform sample, what should the bounds be?\n",
        "    u = np.random.uniform(size=order+1)\n",
        "\n",
        "    #there should be a new beta proposed in here\n",
        "    candidate_beta = np.random.normal(size=order+1,loc=betas[-1],scale=sigma_obs)  \n",
        "\n",
        "    prob_ratio = np.exp(log_posterior(candidate_beta,x,y,sigma,sigma) - log_posterior(betas[-1],x,y,sigma,sigma))\n",
        "    criteria = np.minimum(np.ones(order+1), prob_ratio)\n",
        "\n",
        "    #what should the acceptance look like?\n",
        "\n",
        "    beta_selector = (u<criteria).astype(int)\n",
        "    beta_selectee = np.append([betas[-1]],[candidate_beta],axis=0)\n",
        "\n",
        "    new_beta = np.diagonal(beta_selectee.T[:,beta_selector])\n",
        "    betas.append(new_beta)\n",
        "    \n",
        "    #do we need to look at the acceptance of all features individually or together?\n",
        "  return betas\n",
        "\n",
        "betas = mh(order, steps=1)"
      ]
    },
    {
      "cell_type": "markdown",
      "metadata": {
        "id": "4vvAnZe6HLi8"
      },
      "source": [
        "Below run your implemented Metropolis-Hastings."
      ]
    },
    {
      "cell_type": "code",
      "execution_count": null,
      "metadata": {
        "id": "vdj2w6yoFguC",
        "colab": {
          "base_uri": "https://localhost:8080/"
        },
        "outputId": "b089b5c0-a989-4692-c94d-079c24ec889a"
      },
      "outputs": [
        {
          "output_type": "stream",
          "name": "stdout",
          "text": [
            "Step 100/10000\n",
            "Step 200/10000\n",
            "Step 300/10000\n",
            "Step 400/10000\n",
            "Step 500/10000\n",
            "Step 600/10000\n",
            "Step 700/10000\n",
            "Step 800/10000\n",
            "Step 900/10000\n",
            "Step 1000/10000\n",
            "Step 1100/10000\n",
            "Step 1200/10000\n",
            "Step 1300/10000\n",
            "Step 1400/10000\n",
            "Step 1500/10000\n",
            "Step 1600/10000\n",
            "Step 1700/10000\n",
            "Step 1800/10000\n",
            "Step 1900/10000\n",
            "Step 2000/10000\n",
            "Step 2100/10000\n",
            "Step 2200/10000\n",
            "Step 2300/10000\n",
            "Step 2400/10000\n",
            "Step 2500/10000\n",
            "Step 2600/10000\n",
            "Step 2700/10000\n",
            "Step 2800/10000\n",
            "Step 2900/10000\n",
            "Step 3000/10000\n",
            "Step 3100/10000\n",
            "Step 3200/10000\n",
            "Step 3300/10000\n",
            "Step 3400/10000\n",
            "Step 3500/10000\n",
            "Step 3600/10000\n",
            "Step 3700/10000\n",
            "Step 3800/10000\n",
            "Step 3900/10000\n",
            "Step 4000/10000\n",
            "Step 4100/10000\n",
            "Step 4200/10000\n",
            "Step 4300/10000\n",
            "Step 4400/10000\n",
            "Step 4500/10000\n",
            "Step 4600/10000\n",
            "Step 4700/10000\n",
            "Step 4800/10000\n",
            "Step 4900/10000\n",
            "Step 5000/10000\n",
            "Step 5100/10000\n",
            "Step 5200/10000\n",
            "Step 5300/10000\n",
            "Step 5400/10000\n",
            "Step 5500/10000\n",
            "Step 5600/10000\n",
            "Step 5700/10000\n",
            "Step 5800/10000\n",
            "Step 5900/10000\n",
            "Step 6000/10000\n",
            "Step 6100/10000\n",
            "Step 6200/10000\n",
            "Step 6300/10000\n",
            "Step 6400/10000\n",
            "Step 6500/10000\n",
            "Step 6600/10000\n",
            "Step 6700/10000\n",
            "Step 6800/10000\n",
            "Step 6900/10000\n",
            "Step 7000/10000\n",
            "Step 7100/10000\n",
            "Step 7200/10000\n",
            "Step 7300/10000\n",
            "Step 7400/10000\n",
            "Step 7500/10000\n",
            "Step 7600/10000\n",
            "Step 7700/10000\n",
            "Step 7800/10000\n",
            "Step 7900/10000\n",
            "Step 8000/10000\n",
            "Step 8100/10000\n",
            "Step 8200/10000\n",
            "Step 8300/10000\n",
            "Step 8400/10000\n",
            "Step 8500/10000\n",
            "Step 8600/10000\n",
            "Step 8700/10000\n",
            "Step 8800/10000\n",
            "Step 8900/10000\n",
            "Step 9000/10000\n",
            "Step 9100/10000\n",
            "Step 9200/10000\n",
            "Step 9300/10000\n",
            "Step 9400/10000\n",
            "Step 9500/10000\n",
            "Step 9600/10000\n",
            "Step 9700/10000\n",
            "Step 9800/10000\n",
            "Step 9900/10000\n",
            "Step 10000/10000\n"
          ]
        }
      ],
      "source": [
        "betas = mh(order)"
      ]
    },
    {
      "cell_type": "markdown",
      "metadata": {
        "id": "V0ALjYm0FYUR"
      },
      "source": [
        "Plot the results of your Metropolis-Hastings implementation.\n",
        "\n",
        "Below is a histogram of your MCMC results along with a red line indicating the true coefficient value."
      ]
    },
    {
      "cell_type": "code",
      "execution_count": null,
      "metadata": {
        "id": "fJXf-HToKgGR",
        "colab": {
          "base_uri": "https://localhost:8080/",
          "height": 294
        },
        "outputId": "7bcfcb2d-a2cb-44b4-e6c8-c533db3e2421"
      },
      "outputs": [
        {
          "output_type": "display_data",
          "data": {
            "text/plain": [
              "<Figure size 432x288 with 2 Axes>"
            ],
            "image/png": "[encoded data removed]"
          },
          "metadata": {
            "needs_background": "light"
          }
        }
      ],
      "source": [
        "fig, axes = plt.subplots(1, order+1)\n",
        "fig.suptitle('Learned Distributions')\n",
        "for i in range(len(axes)):\n",
        "  axes[i].hist(np.array(betas)[:,i],density=True,range=(-1,1),bins=20)\n",
        "  axes[i].axvline(x=act_coeffs[i],color='r')"
      ]
    },
    {
      "cell_type": "markdown",
      "metadata": {
        "id": "f9eoaibmLv9Z"
      },
      "source": [
        "Below a function $\\tt{coeff\\_plot}$ is provided which takes in a series of coefficients and returns y-values for plotting.  "
      ]
    },
    {
      "cell_type": "code",
      "execution_count": null,
      "metadata": {
        "id": "LPKlDPxd9T8P"
      },
      "outputs": [],
      "source": [
        "def coeff_plot(coeffs,x):\n",
        "  #generate curve\n",
        "  return_val = 0\n",
        "  for exp in range(len(coeffs)):\n",
        "    return_val += (coeffs[exp]*(x**exp))\n",
        "  return return_val"
      ]
    },
    {
      "cell_type": "markdown",
      "metadata": {
        "id": "I1-2beY_O_sT"
      },
      "source": [
        "First, **plot the random walk of MH algorithm throughout the feature space.** (i.e. plot the entire sequence of $\\beta$ values as a scatter plot)."
      ]
    },
    {
      "cell_type": "code",
      "source": [
        ""
      ],
      "metadata": {
        "colab": {
          "base_uri": "https://localhost:8080/"
        },
        "id": "AWm9JRwDZb2P",
        "outputId": "bdb7ed38-c1db-4cdc-a2a2-cbaf0d7a0395"
      },
      "execution_count": null,
      "outputs": [
        {
          "output_type": "stream",
          "name": "stdout",
          "text": [
            "[ 0.         -0.23356218 -0.3816881  ... -0.54991358 -0.54991358\n",
            " -0.51071098]\n"
          ]
        }
      ]
    },
    {
      "cell_type": "code",
      "execution_count": null,
      "metadata": {
        "id": "NIViqwJ7PcsX",
        "colab": {
          "base_uri": "https://localhost:8080/",
          "height": 283
        },
        "outputId": "78d4358a-47b9-40a4-d7f8-5848009bbe85"
      },
      "outputs": [
        {
          "output_type": "execute_result",
          "data": {
            "text/plain": [
              "<matplotlib.collections.PathCollection at 0x7fc2deabf290>"
            ]
          },
          "metadata": {},
          "execution_count": 84
        },
        {
          "output_type": "display_data",
          "data": {
            "text/plain": [
              "<Figure size 432x288 with 1 Axes>"
            ],
            "image/png": "[encoded data removed]"
          },
          "metadata": {
            "needs_background": "light"
          }
        }
      ],
      "source": [
        "betas = np.array(betas)\n",
        "plt.scatter(betas[:,0],betas[:,1])"
      ]
    },
    {
      "cell_type": "markdown",
      "metadata": {
        "id": "pBX601wXO3Rg"
      },
      "source": [
        "Next, **plot the posterior predictive distribution, i.e. make a plot of x versus y, overlaid with the predicted y for each sample of $\\beta$ drawn via MCMC.**"
      ]
    },
    {
      "cell_type": "code",
      "source": [
        "print(betas[-1])"
      ],
      "metadata": {
        "colab": {
          "base_uri": "https://localhost:8080/"
        },
        "id": "O1VXyJZadbus",
        "outputId": "4631135e-38da-46cd-e490-d8baa7c9cd00"
      },
      "execution_count": null,
      "outputs": [
        {
          "output_type": "stream",
          "name": "stdout",
          "text": [
            "[-0.51071098  0.72223876]\n"
          ]
        }
      ]
    },
    {
      "cell_type": "code",
      "execution_count": null,
      "metadata": {
        "id": "NU14HFkV9Jfy",
        "colab": {
          "base_uri": "https://localhost:8080/",
          "height": 283
        },
        "outputId": "566ea75f-1fa3-4b1f-eb35-e81dff83a3e6"
      },
      "outputs": [
        {
          "output_type": "execute_result",
          "data": {
            "text/plain": [
              "<matplotlib.legend.Legend at 0x7fc2dbc7bb50>"
            ]
          },
          "metadata": {},
          "execution_count": 92
        },
        {
          "output_type": "display_data",
          "data": {
            "text/plain": [
              "<Figure size 432x288 with 1 Axes>"
            ],
            "image/png": "[encoded data removed]"
          },
          "metadata": {
            "needs_background": "light"
          }
        }
      ],
      "source": [
        "plt.plot(x,y,'.')\n",
        "\n",
        "plt.plot(x,coeff_plot(act_coeffs,x),label='Actual')\n",
        "plt.plot(x,coeff_plot(betas[-1],x),label='Betas')\n",
        "# for beta in samples, plot the regression line\n",
        "\n",
        "plt.legend()"
      ]
    },
    {
      "cell_type": "markdown",
      "metadata": {
        "id": "gG8qxPIYuzk-"
      },
      "source": [
        "# Bonus: Hybrid MC"
      ]
    },
    {
      "cell_type": "markdown",
      "metadata": {
        "id": "LwI6_zehSYCM"
      },
      "source": [
        "Before implementing HMC you will need to define the gradient of the posterior.  This is done for you.  However, the below function relies heavily on the gradient of the likelihood which is left mostly undefined.\n",
        "\n",
        "Hint: What is the derivative of a normal distribution?  How do you account for the multiple features?  Do we already have easy access to such an object?"
      ]
    },
    {
      "cell_type": "markdown",
      "source": [
        "By the looks of the Key, implementing the bonus  "
      ],
      "metadata": {
        "id": "haXOPZ4UmclJ"
      }
    },
    {
      "cell_type": "code",
      "execution_count": null,
      "metadata": {
        "id": "adr0_KA6U8ug"
      },
      "outputs": [],
      "source": [
        "def likelihood_grad(beta,x,y):\n",
        "  #order is one less than the length of beta\n",
        "  order = beta-1\n",
        "\n",
        "  #what is the derivative of a normal distribution?\n",
        "    \n",
        "  #how are we going to account for gradient with respect to multiple features?\n",
        "\n",
        "  return None\n",
        "\n",
        "def posterior_grad(beta,x,y):\n",
        "  like = likelihood_grad(beta,x,y)\n",
        "  pr = prior(beta)\n",
        "  return np.sum(like,axis=1)+pr"
      ]
    },
    {
      "cell_type": "code",
      "execution_count": null,
      "metadata": {
        "id": "o6w5beMC9Jqm"
      },
      "outputs": [],
      "source": [
        "#TODO: Implement Hybrid Monte-Carlo algorithm\n",
        "def hmc(order, steps=10000,L=10,rho=0.1):\n",
        "  betas = [np.zeros(order+1)]#initial guess\n",
        "  for i in range(steps):\n",
        "    if (i+1)%(steps/100) == 0:print(\"Step \",i+1,\"/\",steps,sep='')#print steps to check progress\n",
        "    #now you need to sample from both a uniform and normal distribution\n",
        "    \n",
        "    #do you need a proposal distribution?  how are we going to get a proposed beta?\n",
        "    \n",
        "    #does anything special need to be done with rho?\n",
        "    \n",
        "    #how has the acceptance changed?\n",
        "  return None"
      ]
    },
    {
      "cell_type": "markdown",
      "metadata": {
        "id": "iIo_qPwwTD-W"
      },
      "source": [
        "Below run your implemented Hybrid Monte-Carlo."
      ]
    },
    {
      "cell_type": "code",
      "execution_count": null,
      "metadata": {
        "id": "JFRnA7h0H_dt"
      },
      "outputs": [],
      "source": [
        "betas = hmc(order)"
      ]
    },
    {
      "cell_type": "markdown",
      "metadata": {
        "id": "6T5DygcETWZn"
      },
      "source": [
        "Plot the random walk of HMC throughout the feature space."
      ]
    },
    {
      "cell_type": "code",
      "execution_count": null,
      "metadata": {
        "id": "qRpRKM30PnYj"
      },
      "outputs": [],
      "source": [
        "df = pd.DataFrame(betas)\n",
        "g = sb.PairGrid(df)\n",
        "g.map_offdiag(plt.scatter,s=10)\n",
        "plt.show()"
      ]
    },
    {
      "cell_type": "markdown",
      "metadata": {
        "id": "oLjIMmM0TY63"
      },
      "source": [
        "Compare the results of HMC to the actual coefficients used."
      ]
    },
    {
      "cell_type": "code",
      "execution_count": null,
      "metadata": {
        "id": "Ip7_rJ3RPnb9"
      },
      "outputs": [],
      "source": [
        "plt.plot(x,y,'.')\n",
        "plt.plot(x,coeff_plot(gen_coeffs(betas),x),label='MCMC')\n",
        "plt.plot(x,coeff_plot(act_coeffs,x),label='Actual')\n",
        "plt.legend()"
      ]
    }
  ],
  "metadata": {
    "colab": {
      "collapsed_sections": [],
      "name": "BayesianLinearRegression.ipynb",
      "provenance": []
    },
    "kernelspec": {
      "display_name": "Python 3 (ipykernel)",
      "language": "python",
      "name": "python3"
    },
    "language_info": {
      "codemirror_mode": {
        "name": "ipython",
        "version": 3
      },
      "file_extension": ".py",
      "mimetype": "text/x-python",
      "name": "python",
      "nbconvert_exporter": "python",
      "pygments_lexer": "ipython3",
      "version": "3.8.12"
    }
  },
  "nbformat": 4,
  "nbformat_minor": 0
}