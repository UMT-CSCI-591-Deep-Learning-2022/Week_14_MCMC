{
 "cells": [
  {
   "cell_type": "markdown",
   "metadata": {
    "id": "f_IiiF75017j"
   },
   "source": [
    "## Imports"
   ]
  },
  {
   "cell_type": "code",
   "execution_count": 2,
   "metadata": {},
   "outputs": [
    {
     "name": "stdout",
     "output_type": "stream",
     "text": [
      "/opt/conda/lib/python3.7/site-packages/secretstorage/dhcrypto.py:16: CryptographyDeprecationWarning: int_from_bytes is deprecated, use int.from_bytes instead\n",
      "  from cryptography.utils import int_from_bytes\n",
      "/opt/conda/lib/python3.7/site-packages/secretstorage/util.py:25: CryptographyDeprecationWarning: int_from_bytes is deprecated, use int.from_bytes instead\n",
      "  from cryptography.utils import int_from_bytes\n",
      "Collecting torch\n",
      "  Using cached torch-1.11.0-cp37-cp37m-manylinux1_x86_64.whl (750.6 MB)\n",
      "Requirement already satisfied: typing-extensions in /opt/conda/lib/python3.7/site-packages (from torch) (4.0.1)\n",
      "Installing collected packages: torch\n",
      "Successfully installed torch-1.11.0\n",
      "\u001b[33mWARNING: Running pip as the 'root' user can result in broken permissions and conflicting behaviour with the system package manager. It is recommended to use a virtual environment instead: https://pip.pypa.io/warnings/venv\u001b[0m\n",
      "\u001b[33mWARNING: You are using pip version 21.3.1; however, version 22.0.4 is available.\n",
      "You should consider upgrading via the '/opt/conda/bin/python -m pip install --upgrade pip' command.\u001b[0m\n"
     ]
    }
   ],
   "source": [
    "!pip install torch"
   ]
  },
  {
   "cell_type": "code",
   "execution_count": 12,
   "metadata": {
    "id": "zgJekUTeVNI-"
   },
   "outputs": [],
   "source": [
    "import torch\n",
    "import numpy as np\n",
    "import matplotlib.pyplot as plt\n",
    "import scipy\n",
    "from scipy import stats\n",
    "import seaborn as sb\n",
    "import pandas as pd"
   ]
  },
  {
   "cell_type": "markdown",
   "metadata": {
    "id": "FTYuV6v91IE5"
   },
   "source": [
    "This specific notebook focuses on using MCMC methods to determine the coefficients of a polynomial.  In other words, today we seek to perform [Bayesian linear regression](https://en.wikipedia.org/wiki/Bayesian_linear_regression) using two different MCMC algorithms discussed in class, Metropolis-Hastings (MH), and Hybrid Monte-Carlo (HMC).  The former is considered the standard for MCMC algorithms and is often the basis upon which other MCMC algorithms have been developed.  Specifically here, HMC is relevant due to its utilization of gradients, which feature prominently in Neural Networks.  As such, HMC is particuluarly suited to adoption in machine learning problems.\n",
    "\n",
    "## Data Generation\n",
    "\n",
    "The function below generates points from a polynomial of a specified order.  The coefficients of this polynomial are chosen randomly between -10 and 10, and will be the features in the MCMC models experimented with.  The function returns both the point values, for plotting and training within the later MCMC models, and the generated coefficients for comparison to the results of the MCMC models."
   ]
  },
  {
   "cell_type": "code",
   "execution_count": 17,
   "metadata": {
    "id": "c2bQFd_u1Cr6"
   },
   "outputs": [],
   "source": [
    "#generate data from a polynomial with random gaussian noise\n",
    "def curve_gen(x,order):\n",
    "    coeffs = []\n",
    "    #generate curve\n",
    "    return_val = 0\n",
    "    for exp in range(order+1):\n",
    "        coeff = np.random.randint(low=-10,high=10)\n",
    "        coeffs.append(coeff) #store for checking results against later\n",
    "        return_val += (coeff*(x**exp))\n",
    "\n",
    "    #add randomness\n",
    "    for i in range(len(return_val)):\n",
    "        return_val[i] += np.random.normal(scale=10**order)\n",
    "    return return_val,coeffs"
   ]
  },
  {
   "cell_type": "markdown",
   "metadata": {
    "id": "AmpvVkhq2ndg"
   },
   "source": [
    "Below the order of the polynomial and number of points plotted can be chosen.  After this the function $\\tt{curve\\_gen}$ defined above is called and the data for later experimentation generated.  The coefficients are saved in the variable $\\tt{act\\_coeffs}$ for later comparison.  Note too that a seed is given to numpy to enable reproducability.  This line may be removed if a different result is desired."
   ]
  },
  {
   "cell_type": "code",
   "execution_count": 18,
   "metadata": {
    "colab": {
     "base_uri": "https://localhost:8080/",
     "height": 265
    },
    "id": "kZXIFmcnTdsm",
    "outputId": "e8b9f2a6-0b4e-46d6-c846-10ccef6146e6"
   },
   "outputs": [
    {
     "data": {
      "image/png": "[encoded data removed]",
      "text/plain": [
       "<Figure size 432x288 with 1 Axes>"
      ]
     },
     "metadata": {
      "needs_background": "light"
     },
     "output_type": "display_data"
    }
   ],
   "source": [
    "#for reproducability\n",
    "np.random.seed(42)\n",
    "\n",
    "order = 1\n",
    "num_pts = 1000\n",
    "\n",
    "x = np.linspace(-10,10,num_pts)\n",
    "y,act_coeffs = curve_gen(x,order)\n",
    "\n",
    "plt.plot(x,y,'.')\n",
    "plt.show()"
   ]
  },
  {
   "cell_type": "markdown",
   "metadata": {
    "id": "BNtdur6w34v_"
   },
   "source": [
    "## Bayesian Functions\n",
    "Here functions are defined for the calculation of the posterior distribution.  In particular we need both the prior and the likelihood for the calculation of the posterior.  According to Bayes' theorem, knowing these two terms along with the evidence (i.e. probability of the specific data being chosen) is all that is needed to calculate the posterior.  Bayes' theorem according to the variables defined in this document is presented below.\n",
    "\n",
    "$$p(\\beta|X,Y) = \\cfrac{p(Y|X,𝜷)p(𝜷)}{p(Y|X)}$$\n",
    "\n",
    "**Question: Why is there no equation for the evidence below?  Why is it not needed with MCMC methods?**\n",
    "\n",
    "With linear regression (not only Bayesian linear regression), it's often useful to calculate a mathematical object known as the design matrix.\n",
    "\n",
    "A general polynomial curve of order $i$ can be constructed as below, where $\\beta_i$ is the coefficient on $x^i$.  Note that $\\beta_0$ is the y-intercept.\n",
    "\n",
    "$$y = \\sum_{i=0}^i\\beta_ix^i$$\n",
    "\n",
    "Rather than using a sum, this equality can be equivalently written using vector multiplication.\n",
    "\n",
    "$$y = 𝝓^T𝜷$$\n",
    "\n",
    "$$𝝓 = \\begin{pmatrix}\n",
    "x^0 \\\\\n",
    "x^1 \\\\\n",
    "\\vdots\\\\\n",
    "x^i\n",
    "\\end{pmatrix} = \n",
    "\\begin{pmatrix}\n",
    "1 \\\\\n",
    "x^1 \\\\\n",
    "\\vdots\\\\\n",
    "x^i\n",
    "\\end{pmatrix}, \n",
    "𝜷 = \\begin{pmatrix}\n",
    "\\beta_0 \\\\\n",
    "\\beta_1 \\\\\n",
    "\\vdots\\\\\n",
    "\\beta_i\n",
    "\\end{pmatrix}$$\n",
    "\n",
    "In the case of multiple datapoints the vector $𝝓$ becomes the design matrix $𝜱$.\n",
    "\n",
    "$$\n",
    "𝜱 = \n",
    "\\begin{pmatrix}\n",
    "1 & x_0^1 & . . . & x_0^i\\\\\n",
    "1 & x_1^1 & . . . & x_1^i\\\\\n",
    "\\vdots & \\vdots & \\ddots & \\vdots\\\\\n",
    "1 & x_i^1 & . . . & x_i^i\n",
    "\\end{pmatrix}\n",
    "$$\n",
    "\n",
    "Therefore, $Y = 𝜱𝜷$ in the case of multiple data points.  It is left to the student to write the function $\\tt{design\\_mat}$, which is intended to return a design matrix.  As well, the return function for the likelihood is left empty.  This needs to return the likelihood of $Y$ given $𝜷$ and $X$.  As a hint, it's useful to consult both the other functions compelted below as well as other online sources.  [This](https://alpopkes.com/posts/machine_learning/bayesian_linear_regression/) page, [this](https://letianzj.github.io/mcmc-linear-regression.html) page, and [this](https://letianzj.github.io/bayesian-linear-regression.html) page are recommended."
   ]
  },
  {
   "cell_type": "code",
   "execution_count": 19,
   "metadata": {
    "id": "7lmBWphwg8mA"
   },
   "outputs": [],
   "source": [
    "def design_mat(x, order):\n",
    "  #TODO: Write the function which will return the design matrix.\n",
    "    exps = np.arange(order+1)\n",
    "    return (x ** exps.reshape(-1, 1)).T\n",
    "\n",
    "def likelihood(beta,x,y):\n",
    "    #order is one less than the length of beta\n",
    "    des_mat = design_mat(x,len(beta)-1)\n",
    "    y_pred = des_mat@beta\n",
    "    mu = y_pred\n",
    "    sig = 10**order\n",
    "    norm = scipy.stats.norm(loc=y_pred, scale=10**order)\n",
    "    return norm.logpdf(y)\n",
    "\n",
    "def prior(beta):\n",
    "    norm = scipy.stats.norm(loc=0,scale=10**order)\n",
    "    return norm.pdf(beta)\n",
    "\n",
    "def posterior(beta,x,y):\n",
    "    like = likelihood(beta,x,y)\n",
    "    pr = prior(beta)\n",
    "    return np.sum(like)*np.ones(len(pr))+np.log(pr)"
   ]
  },
  {
   "cell_type": "markdown",
   "metadata": {
    "id": "ABZheP01D0fQ"
   },
   "source": [
    "## The Algorithms!\n",
    "\n",
    "With the Bayesian definitions above it's now time to define our algorithms.  The task today is to write two algorithms, Metropolis-Hastings and Hybrid Monte-Carlo.  Very little code is provided for you.  While I was implementing these, the best source was the pseudo-code from the paper, followed closely by the links provided above.  However, if you get stuck feel free to ask one of us in class or take a look at the key provided!\n",
    "\n",
    "**Question: Refer to Figure 5 in the paper, specifically the 5th line with the minimum function.  Is it necessary to have the proposal distribution q when calculating the acceptance rate?  If so why, if not why not?**\n",
    "\n",
    "I believe the answer is yes, the proposed distribution is necessary because the paper relies on the q distribution for calculating the term associated with rejection."
   ]
  },
  {
   "cell_type": "markdown",
   "metadata": {},
   "source": [
    "I struggled hard to implement this myself. I relied on the key."
   ]
  },
  {
   "cell_type": "code",
   "execution_count": 22,
   "metadata": {
    "id": "lu_FV-krg8uu"
   },
   "outputs": [],
   "source": [
    "#TODO: Implement Metropolis-Hastings algorithm\n",
    "def mh(order,steps=10000):\n",
    "  betas = [np.zeros(order+1)] #initial guess\n",
    "  for i in range(steps):\n",
    "    if (i+1)%(steps/100) == 0:print(\"Step \",i+1,\"/\",steps,sep='') #print steps to check progress\n",
    "    u = np.random.uniform(size=order+1)\n",
    "    beta_prop = np.random.normal(size=order+1,loc=betas[-1],scale=0.1)\n",
    "    while np.abs(beta_prop).max()>10: \n",
    "      beta_prop = np.random.normal(size=order+1,loc=betas[-1],scale=0.1)\n",
    "    #since the proposal is symmetric, no need for q in acceptance\n",
    "    acc = np.minimum(np.ones(order+1),np.exp(posterior(beta_prop,x,y)-posterior(betas[-1],x,y)))\n",
    "    beta_selector = (u<acc).astype(int)\n",
    "    beta_selectee = np.append([betas[-1]],[beta_prop],axis=0)\n",
    "\n",
    "    new_beta = np.diagonal(beta_selectee.T[:,beta_selector])\n",
    "    betas.append(new_beta)\n",
    "  return betas"
   ]
  },
  {
   "cell_type": "markdown",
   "metadata": {
    "id": "4vvAnZe6HLi8"
   },
   "source": [
    "Below run your implemented Metropolis-Hastings."
   ]
  },
  {
   "cell_type": "code",
   "execution_count": 23,
   "metadata": {
    "colab": {
     "base_uri": "https://localhost:8080/"
    },
    "id": "vdj2w6yoFguC",
    "outputId": "3663ff98-a86f-4b12-f5c3-bc230ce3a4db"
   },
   "outputs": [
    {
     "name": "stdout",
     "output_type": "stream",
     "text": [
      "Step 100/10000\n",
      "Step 200/10000\n",
      "Step 300/10000\n",
      "Step 400/10000\n",
      "Step 500/10000\n",
      "Step 600/10000\n",
      "Step 700/10000\n",
      "Step 800/10000\n",
      "Step 900/10000\n",
      "Step 1000/10000\n",
      "Step 1100/10000\n",
      "Step 1200/10000\n",
      "Step 1300/10000\n",
      "Step 1400/10000\n",
      "Step 1500/10000\n",
      "Step 1600/10000\n",
      "Step 1700/10000\n",
      "Step 1800/10000\n",
      "Step 1900/10000\n",
      "Step 2000/10000\n",
      "Step 2100/10000\n",
      "Step 2200/10000\n",
      "Step 2300/10000\n",
      "Step 2400/10000\n",
      "Step 2500/10000\n",
      "Step 2600/10000\n",
      "Step 2700/10000\n",
      "Step 2800/10000\n",
      "Step 2900/10000\n",
      "Step 3000/10000\n",
      "Step 3100/10000\n",
      "Step 3200/10000\n",
      "Step 3300/10000\n",
      "Step 3400/10000\n",
      "Step 3500/10000\n",
      "Step 3600/10000\n",
      "Step 3700/10000\n",
      "Step 3800/10000\n",
      "Step 3900/10000\n",
      "Step 4000/10000\n",
      "Step 4100/10000\n",
      "Step 4200/10000\n",
      "Step 4300/10000\n",
      "Step 4400/10000\n",
      "Step 4500/10000\n",
      "Step 4600/10000\n",
      "Step 4700/10000\n",
      "Step 4800/10000\n",
      "Step 4900/10000\n",
      "Step 5000/10000\n",
      "Step 5100/10000\n",
      "Step 5200/10000\n",
      "Step 5300/10000\n",
      "Step 5400/10000\n",
      "Step 5500/10000\n",
      "Step 5600/10000\n",
      "Step 5700/10000\n",
      "Step 5800/10000\n",
      "Step 5900/10000\n",
      "Step 6000/10000\n",
      "Step 6100/10000\n",
      "Step 6200/10000\n",
      "Step 6300/10000\n",
      "Step 6400/10000\n",
      "Step 6500/10000\n",
      "Step 6600/10000\n",
      "Step 6700/10000\n",
      "Step 6800/10000\n",
      "Step 6900/10000\n",
      "Step 7000/10000\n",
      "Step 7100/10000\n",
      "Step 7200/10000\n",
      "Step 7300/10000\n",
      "Step 7400/10000\n",
      "Step 7500/10000\n",
      "Step 7600/10000\n",
      "Step 7700/10000\n",
      "Step 7800/10000\n",
      "Step 7900/10000\n",
      "Step 8000/10000\n",
      "Step 8100/10000\n",
      "Step 8200/10000\n",
      "Step 8300/10000\n",
      "Step 8400/10000\n",
      "Step 8500/10000\n",
      "Step 8600/10000\n",
      "Step 8700/10000\n",
      "Step 8800/10000\n",
      "Step 8900/10000\n",
      "Step 9000/10000\n",
      "Step 9100/10000\n",
      "Step 9200/10000\n",
      "Step 9300/10000\n",
      "Step 9400/10000\n",
      "Step 9500/10000\n",
      "Step 9600/10000\n",
      "Step 9700/10000\n",
      "Step 9800/10000\n",
      "Step 9900/10000\n",
      "Step 10000/10000\n"
     ]
    }
   ],
   "source": [
    "betas = mh(order)"
   ]
  },
  {
   "cell_type": "markdown",
   "metadata": {
    "id": "V0ALjYm0FYUR"
   },
   "source": [
    "Plot the results of your Metropolis-Hastings implementation.\n",
    "\n",
    "Below is a histogram of your MCMC results along with a red line indicating the true coefficient value."
   ]
  },
  {
   "cell_type": "code",
   "execution_count": 24,
   "metadata": {
    "colab": {
     "base_uri": "https://localhost:8080/",
     "height": 294
    },
    "id": "fJXf-HToKgGR",
    "outputId": "38a4d830-5a98-4cc8-ccc9-2c4ddf477988"
   },
   "outputs": [
    {
     "data": {
      "image/png": "[encoded data removed]",
      "text/plain": [
       "<Figure size 432x288 with 2 Axes>"
      ]
     },
     "metadata": {
      "needs_background": "light"
     },
     "output_type": "display_data"
    }
   ],
   "source": [
    "fig, axes = plt.subplots(1, order+1)\n",
    "fig.suptitle('Learned Distributions')\n",
    "for i in range(len(axes)):\n",
    "  axes[i].hist(np.array(betas)[:,i],density=True,range=(-10,10),bins=20)\n",
    "  axes[i].axvline(x=act_coeffs[i],color='r')"
   ]
  },
  {
   "cell_type": "markdown",
   "metadata": {
    "id": "f9eoaibmLv9Z"
   },
   "source": [
    "Below a function $\\tt{coeff\\_plot}$ is provided which takes in a series of coefficients and returns y-values for plotting.  As well, the function $\\tt{gen\\_coeffs}$ takes in your calculated betas and returns the most likely coefficient to 0.01 accuracy."
   ]
  },
  {
   "cell_type": "code",
   "execution_count": 25,
   "metadata": {
    "id": "LPKlDPxd9T8P"
   },
   "outputs": [],
   "source": [
    "def coeff_plot(coeffs,x):\n",
    "  #generate curve\n",
    "  return_val = 0\n",
    "  for exp in range(len(coeffs)):\n",
    "    return_val += (coeffs[exp]*(x**exp))\n",
    "  return return_val\n",
    "def gen_coeffs(betas):\n",
    "  coeffs = []\n",
    "  for i in range(len(betas[0])):\n",
    "    binned = np.histogram(np.array(betas)[:,i],bins=1000,range=(-10,10))\n",
    "    coeffs.append(binned[1][np.argmax(binned[0])])\n",
    "  return coeffs"
   ]
  },
  {
   "cell_type": "markdown",
   "metadata": {
    "id": "I1-2beY_O_sT"
   },
   "source": [
    "Plot the random walk of MH algorithm throughout the feature space."
   ]
  },
  {
   "cell_type": "code",
   "execution_count": 26,
   "metadata": {
    "colab": {
     "base_uri": "https://localhost:8080/",
     "height": 368
    },
    "id": "NIViqwJ7PcsX",
    "outputId": "02dfe111-53a3-4ba9-b874-7be7f9393346"
   },
   "outputs": [
    {
     "data": {
      "image/png": "[encoded data removed]",
      "text/plain": [
       "<Figure size 360x360 with 4 Axes>"
      ]
     },
     "metadata": {
      "needs_background": "light"
     },
     "output_type": "display_data"
    }
   ],
   "source": [
    "df = pd.DataFrame(betas)\n",
    "g = sb.PairGrid(df)\n",
    "g.map_offdiag(plt.scatter,s=10)\n",
    "plt.show()"
   ]
  },
  {
   "cell_type": "markdown",
   "metadata": {
    "id": "pBX601wXO3Rg"
   },
   "source": [
    "Compare the results of MH to the actual coefficients used."
   ]
  },
  {
   "cell_type": "code",
   "execution_count": 27,
   "metadata": {
    "colab": {
     "base_uri": "https://localhost:8080/",
     "height": 282
    },
    "id": "NU14HFkV9Jfy",
    "outputId": "45e43e6b-ab3f-4133-acdb-640b924f15e9"
   },
   "outputs": [
    {
     "data": {
      "text/plain": [
       "<matplotlib.legend.Legend at 0x7f7abcceae10>"
      ]
     },
     "execution_count": 27,
     "metadata": {},
     "output_type": "execute_result"
    },
    {
     "data": {
      "image/png": "[encoded data removed]",
      "text/plain": [
       "<Figure size 432x288 with 1 Axes>"
      ]
     },
     "metadata": {
      "needs_background": "light"
     },
     "output_type": "display_data"
    }
   ],
   "source": [
    "plt.plot(x,y,'.')\n",
    "plt.plot(x,coeff_plot(gen_coeffs(betas),x),label='MCMC')\n",
    "plt.plot(x,coeff_plot(act_coeffs,x),label='Actual')\n",
    "plt.legend()"
   ]
  },
  {
   "cell_type": "markdown",
   "metadata": {
    "id": "LwI6_zehSYCM"
   },
   "source": [
    "Before implementing HMC you will need to define the gradient of the posterior.  This is done for you.  However, the below function relies heavily on the gradient of the likelihood which is left mostly undefined.\n",
    "\n",
    "Hint: What is the derivative of a normal distribution?  How do you account for the multiple features?  Do we already have easy access to such an object?"
   ]
  },
  {
   "cell_type": "code",
   "execution_count": 28,
   "metadata": {
    "id": "adr0_KA6U8ug"
   },
   "outputs": [],
   "source": [
    "def likelihood_grad(beta,x,y):\n",
    "  #order is one less than the length of beta\n",
    "  #order is one less than the length of beta\n",
    "    des_mat = design_mat(x,len(beta)-1)\n",
    "    y_pred = des_mat@beta\n",
    "    \n",
    "    mu = y_pred\n",
    "    sig = 10**order\n",
    "\n",
    "    norm_dist = scipy.stats.norm(loc=mu, scale=sig).pdf(y)\n",
    "    coeff = (y_pred-y)/(10**(2*order))\n",
    "\n",
    "    return des_mat.T * (norm_dist*coeff)\n",
    "\n",
    "\n",
    "def posterior_grad(beta,x,y):\n",
    "  like = likelihood_grad(beta,x,y)\n",
    "  pr = prior(beta)\n",
    "  return np.sum(like,axis=1)+pr"
   ]
  },
  {
   "cell_type": "markdown",
   "metadata": {},
   "source": [
    "I also struggled on implementing this and relied on the key..."
   ]
  },
  {
   "cell_type": "code",
   "execution_count": 32,
   "metadata": {
    "id": "o6w5beMC9Jqm"
   },
   "outputs": [],
   "source": [
    "#TODO: Implement Hybrid Monte-Carlo algorithm\n",
    "def hmc(order, steps=10000,L=10,rho=0.1):\n",
    "    betas = [np.zeros(order+1)]\n",
    "    for i in range(steps):\n",
    "        if (i+1)%(steps/100) == 0:print(\"Step \",i+1,\"/\",steps,sep='')\n",
    "        v = np.random.uniform(size=order+1)\n",
    "        u = np.random.normal(size=order+1)\n",
    "\n",
    "        u_l = u + rho*posterior_grad(betas[-1],x,y)/2\n",
    "        beta_l = betas[-1].copy()\n",
    "\n",
    "        for l in range(L):\n",
    "            beta_l += rho*u_l\n",
    "\n",
    "            if l<(L-1): u_l += rho*posterior_grad(beta_l,x,y)\n",
    "            else: u_l += (rho/2)*posterior_grad(beta_l,x,y)\n",
    "\n",
    "        acc_ratio = np.exp(posterior(beta_l,x,y)-posterior(betas[-1],x,y))\n",
    "        u_exp = np.exp(-0.5 * (np.dot(u_l,u_l) - np.dot(u,u)))\n",
    "        acc = np.minimum(np.ones(order+1), acc_ratio*u_exp)\n",
    "\n",
    "        beta_selector = (v<acc).astype(int)\n",
    "        beta_selectee = np.append([betas[-1]],[beta_l],axis=0)\n",
    "\n",
    "        new_beta = np.diagonal(beta_selectee.T[:,beta_selector])\n",
    "        betas.append(new_beta)\n",
    "    return betas"
   ]
  },
  {
   "cell_type": "markdown",
   "metadata": {
    "id": "iIo_qPwwTD-W"
   },
   "source": [
    "Below run your implemented Hybrid Monte-Carlo."
   ]
  },
  {
   "cell_type": "code",
   "execution_count": 33,
   "metadata": {
    "colab": {
     "base_uri": "https://localhost:8080/"
    },
    "id": "JFRnA7h0H_dt",
    "outputId": "beca37c4-8601-4416-bed1-892c3a170914"
   },
   "outputs": [
    {
     "name": "stderr",
     "output_type": "stream",
     "text": [
      "/opt/conda/lib/python3.7/site-packages/ipykernel_launcher.py:18: RuntimeWarning: overflow encountered in exp\n"
     ]
    },
    {
     "name": "stdout",
     "output_type": "stream",
     "text": [
      "Step 100/10000\n",
      "Step 200/10000\n",
      "Step 300/10000\n",
      "Step 400/10000\n",
      "Step 500/10000\n",
      "Step 600/10000\n",
      "Step 700/10000\n",
      "Step 800/10000\n",
      "Step 900/10000\n",
      "Step 1000/10000\n",
      "Step 1100/10000\n",
      "Step 1200/10000\n",
      "Step 1300/10000\n",
      "Step 1400/10000\n",
      "Step 1500/10000\n",
      "Step 1600/10000\n",
      "Step 1700/10000\n",
      "Step 1800/10000\n",
      "Step 1900/10000\n",
      "Step 2000/10000\n",
      "Step 2100/10000\n",
      "Step 2200/10000\n",
      "Step 2300/10000\n",
      "Step 2400/10000\n",
      "Step 2500/10000\n",
      "Step 2600/10000\n",
      "Step 2700/10000\n",
      "Step 2800/10000\n",
      "Step 2900/10000\n",
      "Step 3000/10000\n",
      "Step 3100/10000\n",
      "Step 3200/10000\n",
      "Step 3300/10000\n",
      "Step 3400/10000\n",
      "Step 3500/10000\n",
      "Step 3600/10000\n",
      "Step 3700/10000\n",
      "Step 3800/10000\n",
      "Step 3900/10000\n",
      "Step 4000/10000\n",
      "Step 4100/10000\n",
      "Step 4200/10000\n",
      "Step 4300/10000\n",
      "Step 4400/10000\n",
      "Step 4500/10000\n",
      "Step 4600/10000\n",
      "Step 4700/10000\n",
      "Step 4800/10000\n",
      "Step 4900/10000\n",
      "Step 5000/10000\n",
      "Step 5100/10000\n",
      "Step 5200/10000\n",
      "Step 5300/10000\n",
      "Step 5400/10000\n",
      "Step 5500/10000\n",
      "Step 5600/10000\n",
      "Step 5700/10000\n",
      "Step 5800/10000\n",
      "Step 5900/10000\n",
      "Step 6000/10000\n",
      "Step 6100/10000\n",
      "Step 6200/10000\n",
      "Step 6300/10000\n",
      "Step 6400/10000\n",
      "Step 6500/10000\n",
      "Step 6600/10000\n",
      "Step 6700/10000\n",
      "Step 6800/10000\n",
      "Step 6900/10000\n",
      "Step 7000/10000\n",
      "Step 7100/10000\n",
      "Step 7200/10000\n",
      "Step 7300/10000\n",
      "Step 7400/10000\n",
      "Step 7500/10000\n",
      "Step 7600/10000\n",
      "Step 7700/10000\n",
      "Step 7800/10000\n",
      "Step 7900/10000\n",
      "Step 8000/10000\n",
      "Step 8100/10000\n",
      "Step 8200/10000\n",
      "Step 8300/10000\n",
      "Step 8400/10000\n",
      "Step 8500/10000\n",
      "Step 8600/10000\n",
      "Step 8700/10000\n",
      "Step 8800/10000\n",
      "Step 8900/10000\n",
      "Step 9000/10000\n",
      "Step 9100/10000\n",
      "Step 9200/10000\n",
      "Step 9300/10000\n",
      "Step 9400/10000\n",
      "Step 9500/10000\n",
      "Step 9600/10000\n",
      "Step 9700/10000\n",
      "Step 9800/10000\n",
      "Step 9900/10000\n",
      "Step 10000/10000\n"
     ]
    }
   ],
   "source": [
    "betas = hmc(order)"
   ]
  },
  {
   "cell_type": "markdown",
   "metadata": {
    "id": "6T5DygcETWZn"
   },
   "source": [
    "Plot the random walk of HMC throughout the feature space."
   ]
  },
  {
   "cell_type": "code",
   "execution_count": 34,
   "metadata": {
    "id": "qRpRKM30PnYj"
   },
   "outputs": [
    {
     "data": {
      "image/png": "[encoded data removed]",
      "text/plain": [
       "<Figure size 360x360 with 4 Axes>"
      ]
     },
     "metadata": {
      "needs_background": "light"
     },
     "output_type": "display_data"
    }
   ],
   "source": [
    "df = pd.DataFrame(betas)\n",
    "g = sb.PairGrid(df)\n",
    "g.map_offdiag(plt.scatter,s=10)\n",
    "plt.show()"
   ]
  },
  {
   "cell_type": "markdown",
   "metadata": {
    "id": "oLjIMmM0TY63"
   },
   "source": [
    "Compare the results of HMC to the actual coefficients used."
   ]
  },
  {
   "cell_type": "code",
   "execution_count": 35,
   "metadata": {
    "colab": {
     "base_uri": "https://localhost:8080/",
     "height": 282
    },
    "id": "Ip7_rJ3RPnb9",
    "outputId": "b733769d-46c7-4a79-ea36-a01cc12daf9d"
   },
   "outputs": [
    {
     "data": {
      "text/plain": [
       "<matplotlib.legend.Legend at 0x7f7abc8d4c10>"
      ]
     },
     "execution_count": 35,
     "metadata": {},
     "output_type": "execute_result"
    },
    {
     "data": {
      "image/png": "[encoded data removed]",
      "text/plain": [
       "<Figure size 432x288 with 1 Axes>"
      ]
     },
     "metadata": {
      "needs_background": "light"
     },
     "output_type": "display_data"
    }
   ],
   "source": [
    "plt.plot(x,y,'.')\n",
    "plt.plot(x,coeff_plot(gen_coeffs(betas),x),label='MCMC')\n",
    "plt.plot(x,coeff_plot(act_coeffs,x),label='Actual')\n",
    "plt.legend()"
   ]
  },
  {
   "cell_type": "code",
   "execution_count": null,
   "metadata": {},
   "outputs": [],
   "source": []
  }
 ],
 "metadata": {
  "colab": {
   "collapsed_sections": [],
   "name": "BayesianLinearRegression.ipynb",
   "provenance": []
  },
  "instance_type": "ml.m5.large",
  "kernelspec": {
   "display_name": "Python 3 (Data Science)",
   "language": "python",
   "name": "python3__SAGEMAKER_INTERNAL__arn:aws:sagemaker:us-east-1:081325390199:image/datascience-1.0"
  },
  "language_info": {
   "codemirror_mode": {
    "name": "ipython",
    "version": 3
   },
   "file_extension": ".py",
   "mimetype": "text/x-python",
   "name": "python",
   "nbconvert_exporter": "python",
   "pygments_lexer": "ipython3",
   "version": "3.7.10"
  }
 },
 "nbformat": 4,
 "nbformat_minor": 4
}
